{
  "nbformat": 4,
  "nbformat_minor": 0,
  "metadata": {
    "colab": {
      "provenance": []
    },
    "kernelspec": {
      "name": "python3",
      "display_name": "Python 3"
    },
    "language_info": {
      "name": "python"
    }
  },
  "cells": [
    {
      "cell_type": "code",
      "execution_count": 1,
      "metadata": {
        "colab": {
          "base_uri": "https://localhost:8080/"
        },
        "id": "rPpjzoZoVfrx",
        "outputId": "55428d1f-ce20-408a-afb3-c238b0702a45"
      },
      "outputs": [
        {
          "output_type": "stream",
          "name": "stdout",
          "text": [
            "Welcome to my computer quiz!\n"
          ]
        }
      ],
      "source": [
        "print(\"Welcome to my computer quiz!\")"
      ]
    },
    {
      "cell_type": "code",
      "source": [
        "print(\"Welcome to my computer quiz!\")\n",
        "playing = input(\"Do you want to play? \")\n",
        "if playing.lower() != \"yes\":\n",
        "    quit()\n",
        "print(\"Okay! Let's play :)\")"
      ],
      "metadata": {
        "colab": {
          "base_uri": "https://localhost:8080/"
        },
        "id": "CpeNa3tnXVME",
        "outputId": "3f44bae2-8008-4a53-8511-1f72c54164b9"
      },
      "execution_count": 13,
      "outputs": [
        {
          "output_type": "stream",
          "name": "stdout",
          "text": [
            "Welcome to my computer quiz!\n",
            "Do you want to play?      yes\n",
            "Okay! Let's play :)\n"
          ]
        }
      ]
    },
    {
      "cell_type": "code",
      "source": [
        "answer = input(\"What does CPU stands for? \")\n",
        "if answer ==\"central processsing unit\": # Removed extra space before 'if'\n",
        "  print(\"Correct!\")\n",
        "else:\n",
        "    print(\"Incorrect!\")"
      ],
      "metadata": {
        "colab": {
          "base_uri": "https://localhost:8080/"
        },
        "id": "3q3sMZr5ZK4R",
        "outputId": "05ce8dbc-25b3-49a7-bb72-c0a51e001448"
      },
      "execution_count": 2,
      "outputs": [
        {
          "output_type": "stream",
          "name": "stdout",
          "text": [
            "What does CPU stands for? central processsing unit\n",
            "Correct!\n"
          ]
        }
      ]
    },
    {
      "cell_type": "code",
      "source": [
        "answer = input(\"What does gPU stands for? \")\n",
        "if answer ==\"graphics processing  unit\": # Removed extra space before 'if'\n",
        "  print(\"Correct!\")\n",
        "else:\n",
        "    print(\"Incorrect!\")\n",
        "    answer = input(\"What does RAM stands for? \")\n",
        "if answer ==\"Random access memory\": # Removed extra space before 'if'\n",
        "  print(\"Correct!\")\n",
        "else:\n",
        "    print(\"Incorrect!\")"
      ],
      "metadata": {
        "colab": {
          "base_uri": "https://localhost:8080/"
        },
        "id": "j67YNyHnaJz4",
        "outputId": "0fa30a11-b54d-431c-a444-e75a02ff5100"
      },
      "execution_count": 5,
      "outputs": [
        {
          "output_type": "stream",
          "name": "stdout",
          "text": [
            "What does gPU stands for? graphics processing unit\n",
            "Incorrect!\n",
            "What does RAM stands for? Random access memory\n",
            "Correct!\n"
          ]
        }
      ]
    },
    {
      "cell_type": "code",
      "source": [
        "print(\"You got all your questions\")\n",
        "print(\"thank you\")"
      ],
      "metadata": {
        "colab": {
          "base_uri": "https://localhost:8080/"
        },
        "id": "wKDG5LascVTX",
        "outputId": "c6251fb6-fdf3-4eff-8f5a-638e25132437"
      },
      "execution_count": 3,
      "outputs": [
        {
          "output_type": "stream",
          "name": "stdout",
          "text": [
            "You got all your questions\n",
            "thank you\n"
          ]
        }
      ]
    }
  ]
}